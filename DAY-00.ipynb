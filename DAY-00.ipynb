{
 "cells": [
  {
   "cell_type": "markdown",
   "id": "57cefe92-a2e1-49bf-b0fd-582c42244f73",
   "metadata": {},
   "source": [
    "# Python-> is a popular programming language. It can be used on a server to create a WEB APP."
   ]
  },
  {
   "cell_type": "markdown",
   "id": "827b7d00-a675-49a2-8e92-36c5ea226c64",
   "metadata": {},
   "source": [
    "# (01)Print Function."
   ]
  },
  {
   "cell_type": "code",
   "execution_count": 1,
   "id": "bdb99fe7-43e3-4965-bb10-71e1f38d557b",
   "metadata": {},
   "outputs": [
    {
     "name": "stdout",
     "output_type": "stream",
     "text": [
      "Let's Start Python Mission\n"
     ]
    }
   ],
   "source": [
    "print(\"Let's Start Python Mission\")"
   ]
  },
  {
   "cell_type": "code",
   "execution_count": 2,
   "id": "5ecf176c-fa3b-4876-88ea-31f1018d537b",
   "metadata": {},
   "outputs": [
    {
     "name": "stdout",
     "output_type": "stream",
     "text": [
      "You can write anything you want into this double-citation\n"
     ]
    }
   ],
   "source": [
    "print(\"You can write anything you want into this double-citation\")"
   ]
  },
  {
   "cell_type": "code",
   "execution_count": 3,
   "id": "08fcabf6-b0ef-494f-896d-76eaacf3cdcf",
   "metadata": {},
   "outputs": [
    {
     "name": "stdout",
     "output_type": "stream",
     "text": [
      "I am JASON\n"
     ]
    }
   ],
   "source": [
    "print('I am JASON')"
   ]
  },
  {
   "cell_type": "code",
   "execution_count": 1,
   "id": "74267263-1e45-46c9-ba69-0f35546717b1",
   "metadata": {},
   "outputs": [
    {
     "name": "stdout",
     "output_type": "stream",
     "text": [
      "3.12.4 | packaged by Anaconda, Inc. | (main, Jun 18 2024, 15:03:56) [MSC v.1929 64 bit (AMD64)]\n"
     ]
    }
   ],
   "source": [
    "import sys\n",
    "print(sys.version)"
   ]
  },
  {
   "cell_type": "markdown",
   "id": "f645dc8e-bc8a-4e11-b7be-cf86468f8eb3",
   "metadata": {},
   "source": [
    "# (02)Python Variables"
   ]
  },
  {
   "cell_type": "code",
   "execution_count": 4,
   "id": "68b18ea3-983e-46c5-9680-5702f39b4175",
   "metadata": {},
   "outputs": [
    {
     "name": "stdout",
     "output_type": "stream",
     "text": [
      "100\n",
      "Python\n",
      "100 Python\n",
      "Python 100\n"
     ]
    }
   ],
   "source": [
    "x = 100\n",
    "y = \"Python\"\n",
    "print(x)\n",
    "print(y)\n",
    "print(x,y)\n",
    "print(y,x)"
   ]
  },
  {
   "cell_type": "markdown",
   "id": "c3ef8b7a-4334-43b5-9127-20f170863657",
   "metadata": {},
   "source": [
    "# (03)Python Comments"
   ]
  },
  {
   "cell_type": "code",
   "execution_count": 6,
   "id": "5f82e176-e941-4449-b5da-3ca450fe664e",
   "metadata": {},
   "outputs": [
    {
     "name": "stdout",
     "output_type": "stream",
     "text": [
      "Jason Halder\n"
     ]
    }
   ],
   "source": [
    "# Print your name here.\n",
    "print(\"Jason Halder\") # Here is my name."
   ]
  },
  {
   "cell_type": "markdown",
   "id": "05db05cf-afe7-490f-9301-de62ec326f59",
   "metadata": {},
   "source": [
    "# (04)Multiline Comments"
   ]
  },
  {
   "cell_type": "code",
   "execution_count": 7,
   "id": "a52a6478-ae9c-42ac-a7f5-a25b8bcc9f6c",
   "metadata": {},
   "outputs": [
    {
     "name": "stdout",
     "output_type": "stream",
     "text": [
      "Python_JH\n"
     ]
    }
   ],
   "source": [
    "# Type anything you want about the codes.\n",
    "# Code for Python.\n",
    "# Plz print Python_JH.\n",
    "print(\"Python_JH\")"
   ]
  },
  {
   "cell_type": "code",
   "execution_count": 8,
   "id": "3493e062-ae3e-4473-8beb-6e733a44ac6d",
   "metadata": {},
   "outputs": [
    {
     "name": "stdout",
     "output_type": "stream",
     "text": [
      "Python_JH\n"
     ]
    }
   ],
   "source": [
    "\"\"\"\n",
    "Please feel free to type anything you want about the codes.\n",
    "Code for Python.\n",
    "Plz print Python_JH.\n",
    "\"\"\"\n",
    "print(\"Python_JH\")"
   ]
  },
  {
   "cell_type": "markdown",
   "id": "bc12738a-c842-4542-ac57-ed88972bd088",
   "metadata": {},
   "source": [
    "# (05)Creating Variables"
   ]
  },
  {
   "cell_type": "code",
   "execution_count": 10,
   "id": "cc6a1aca-7c05-4e82-b9e0-c33cf4468efb",
   "metadata": {},
   "outputs": [
    {
     "name": "stdout",
     "output_type": "stream",
     "text": [
      "100 JASON\n"
     ]
    }
   ],
   "source": [
    "x= 100      # 'X' is a type of \"int\"\n",
    "y= \"JASON\"  # 'Y' is a type of \"str\"\n",
    "print(x,y)"
   ]
  },
  {
   "cell_type": "code",
   "execution_count": 11,
   "id": "ae4bb457-1740-483f-b22b-6a30a7f9fe6f",
   "metadata": {},
   "outputs": [
    {
     "name": "stdout",
     "output_type": "stream",
     "text": [
      "jason\n"
     ]
    }
   ],
   "source": [
    "x=400      # is a type of \"int\"\n",
    "x=\"jason\"  # now it is a type of \"str\"\n",
    "print(x)   # if we now print 'x' then we have the final value of 'x'."
   ]
  },
  {
   "cell_type": "markdown",
   "id": "91bbe782-6ab8-4dd4-8d58-eaa0515e42d7",
   "metadata": {},
   "source": [
    "# (06)Casting"
   ]
  },
  {
   "cell_type": "code",
   "execution_count": 13,
   "id": "c5930d47-fff9-43d0-aeef-aebf6140f15a",
   "metadata": {},
   "outputs": [
    {
     "name": "stdout",
     "output_type": "stream",
     "text": [
      "100 100 100.0\n"
     ]
    }
   ],
   "source": [
    "x = str(100)    # x will be '3'\n",
    "y = int(100)    # y will be 3\n",
    "z = float(100)  # z will be 3.0\n",
    "print(x,y,z)"
   ]
  },
  {
   "cell_type": "markdown",
   "id": "2f54eddc-8a5e-4d7e-b58a-67d8537ba4a8",
   "metadata": {},
   "source": [
    "# (07)Get the Type"
   ]
  },
  {
   "cell_type": "code",
   "execution_count": 14,
   "id": "464d54bf-3c6b-42f3-bcc0-8b26374a6068",
   "metadata": {},
   "outputs": [
    {
     "name": "stdout",
     "output_type": "stream",
     "text": [
      "<class 'int'>\n",
      "<class 'str'>\n"
     ]
    }
   ],
   "source": [
    "x= 100      # 'X' is a type of \"int\"\n",
    "y= \"JASON\"  # 'Y' is a type of \"str\"\n",
    "print(type(x))\n",
    "print(type(y))"
   ]
  },
  {
   "cell_type": "markdown",
   "id": "351059ed-d568-43cd-989b-a11c460e31e0",
   "metadata": {},
   "source": [
    "# (08)Single or Double Quotes?"
   ]
  },
  {
   "cell_type": "code",
   "execution_count": 15,
   "id": "40dc2416-f487-4952-851d-5bdb74c41db5",
   "metadata": {},
   "outputs": [
    {
     "name": "stdout",
     "output_type": "stream",
     "text": [
      "<class 'str'>\n"
     ]
    }
   ],
   "source": [
    "x = \"Jason\"\n",
    "# is the same as\n",
    "x = 'Jason'\n",
    "print(type(x))"
   ]
  },
  {
   "cell_type": "markdown",
   "id": "03039c34-77c0-4aad-9025-925a4de8bd56",
   "metadata": {},
   "source": [
    "# (09)Case-Sensitive "
   ]
  },
  {
   "cell_type": "code",
   "execution_count": 18,
   "id": "a4cea978-c973-4095-9ed2-2d0166414ad9",
   "metadata": {},
   "outputs": [
    {
     "name": "stdout",
     "output_type": "stream",
     "text": [
      "<class 'int'> <class 'str'>\n"
     ]
    }
   ],
   "source": [
    "a = 4000\n",
    "A = \"JASON\"\n",
    "# A will not overwrite a\n",
    "print(type(a),type(A))"
   ]
  },
  {
   "cell_type": "markdown",
   "id": "016b09e4-09b9-4bb4-b916-5742766ef18a",
   "metadata": {},
   "source": [
    "# (10)Python - Variable Names-> \n",
    "A variable can have a short name (like x and y) or a more descriptive name (age, carname, total_volume)—rules for Python variables.ords."
   ]
  },
  {
   "cell_type": "code",
   "execution_count": 24,
   "id": "d4e190fc-ab4f-4466-97af-283046e0e8e3",
   "metadata": {},
   "outputs": [
    {
     "name": "stdout",
     "output_type": "stream",
     "text": [
      "Jason Derick Stalin George 100000 10000.00\n"
     ]
    },
    {
     "data": {
      "text/plain": [
       "'\\n2mybro = \"Stain\" \\nmy-bro = \"Derick\"  \\nmy bro = \"George\" \\n'"
      ]
     },
     "execution_count": 24,
     "metadata": {},
     "output_type": "execute_result"
    }
   ],
   "source": [
    "# Types of Legal variable names.\n",
    "myname = \"Jason\"\n",
    "my_bro1 = \"Derick\"\n",
    "_my_bro2 = \"Stalin\"\n",
    "myBro = \"George\"\n",
    "TAKA = \"100000\"\n",
    "myTaka_2_JH = \"10000.00\"\n",
    "print(myname, my_bro1, _my_bro2, myBro, TAKA, myTaka_2_JH)\n",
    "\n",
    "# Types of Illegal variable names.\n",
    "\"\"\"\n",
    "2mybro = \"Stain\" \n",
    "my-bro = \"Derick\"  \n",
    "my bro = \"George\" \n",
    "\"\"\""
   ]
  },
  {
   "cell_type": "markdown",
   "id": "3d5ea656-ba3f-441e-9b96-bbda2eb2e211",
   "metadata": {},
   "source": [
    "# (10.1)Multi Words Variable Names-> \n",
    "Variable names with more than one word can be difficult to read.\r",
    "\r\n",
    "There are several techniques you can use to make them more readable:"
   ]
  },
  {
   "cell_type": "markdown",
   "id": "9ea3bc17-955c-49da-af2c-9ff0b8fe6dac",
   "metadata": {},
   "source": [
    "# (10.1.1)Camel Case->\r\n",
    "Each word, except the first, starts with a capital letter:"
   ]
  },
  {
   "cell_type": "code",
   "execution_count": 26,
   "id": "5c886882-9643-4e81-8a24-ef329d5777ee",
   "metadata": {},
   "outputs": [
    {
     "name": "stdout",
     "output_type": "stream",
     "text": [
      "<class 'str'>\n"
     ]
    }
   ],
   "source": [
    "myVariableName = \"Jayson\"\n",
    "print(type(myVariableName))"
   ]
  },
  {
   "cell_type": "markdown",
   "id": "b8931478-d64d-46d1-b5ce-b115ae2f8956",
   "metadata": {},
   "source": [
    "# (10.1.2)Pascal Case->\n",
    "Each word starts with a capital letter:"
   ]
  },
  {
   "cell_type": "code",
   "execution_count": 27,
   "id": "dbee78cb-f39f-4fa5-ba5f-905934ccafe6",
   "metadata": {},
   "outputs": [
    {
     "name": "stdout",
     "output_type": "stream",
     "text": [
      "<class 'str'>\n"
     ]
    }
   ],
   "source": [
    "MyVariableName = \"Jason\"\n",
    "print(type(MyVariableName))"
   ]
  },
  {
   "cell_type": "markdown",
   "id": "9d08b00b-dcb6-43a3-a217-661faeea28ac",
   "metadata": {},
   "source": [
    "# (10.1.3)Snake Case->\n",
    "Each word is separated by an underscore character:"
   ]
  },
  {
   "cell_type": "code",
   "execution_count": 28,
   "id": "4620813e-2415-4b05-b93b-295afc430cba",
   "metadata": {},
   "outputs": [
    {
     "name": "stdout",
     "output_type": "stream",
     "text": [
      "<class 'str'>\n"
     ]
    }
   ],
   "source": [
    "my_variable_name = \"Jason_JH_Halder\"\n",
    "print(type(my_variable_name))"
   ]
  },
  {
   "cell_type": "markdown",
   "id": "3306457c-5c7a-4d29-8c2b-03bc890f11cb",
   "metadata": {},
   "source": [
    "# (10.2)Python Variables - Assign Multiple Values"
   ]
  },
  {
   "cell_type": "markdown",
   "id": "ffd44fed-c2cd-45f9-97f0-272c281b3fdd",
   "metadata": {},
   "source": [
    "# (10.2.1)Many Values to Multiple Variables->\r\n",
    "Python allows you to assign values to multiple variables in one line:"
   ]
  },
  {
   "cell_type": "code",
   "execution_count": 29,
   "id": "05c15f41-3672-4ea9-90b1-ab175d7207e8",
   "metadata": {},
   "outputs": [
    {
     "name": "stdout",
     "output_type": "stream",
     "text": [
      "RED GREEN BLUE\n"
     ]
    }
   ],
   "source": [
    "R, G, B = \"RED\", \"GREEN\", \"BLUE\"\n",
    "print(R,G,B)"
   ]
  },
  {
   "cell_type": "markdown",
   "id": "4b033f24-dd91-4b82-bdfe-517743901434",
   "metadata": {},
   "source": [
    "# (10.2.2)One Value to Multiple Variables->\n",
    "And you can assign the same value to multiple variables in one line:"
   ]
  },
  {
   "cell_type": "code",
   "execution_count": 30,
   "id": "4b7e5693-e5cd-4420-8fa0-29baff6291b8",
   "metadata": {},
   "outputs": [
    {
     "name": "stdout",
     "output_type": "stream",
     "text": [
      "RED RED RED\n"
     ]
    }
   ],
   "source": [
    "R = G = B = \"RED\"\n",
    "print(R,G,B)"
   ]
  },
  {
   "cell_type": "markdown",
   "id": "060337f4-427b-43e8-914b-b75aa60ec727",
   "metadata": {},
   "source": [
    "# (10.2.3)Unpack a Collection->\n",
    "If you have a collection of values in a list, tuple, etc. Python allows you to extract the values into variables. This is called unpacking."
   ]
  },
  {
   "cell_type": "code",
   "execution_count": 35,
   "id": "874d2843-84a2-4212-b88f-5b8fe308c837",
   "metadata": {},
   "outputs": [
    {
     "name": "stdout",
     "output_type": "stream",
     "text": [
      "iPhone Samsung Redmi\n",
      "<class 'str'> <class 'str'> <class 'str'>\n"
     ]
    }
   ],
   "source": [
    "Phones = [\"iPhone\", \"Samsung\", \"Redmi\"]\n",
    "x, y, z = Phones\n",
    "print(x,y,z)\n",
    "print(type(x),type(y),type(z))"
   ]
  },
  {
   "cell_type": "markdown",
   "id": "1c0f961d-b643-4bd3-bfc6-b0e3aafbdf82",
   "metadata": {},
   "source": [
    "# (10.3)Python - Output Variables->"
   ]
  },
  {
   "cell_type": "code",
   "execution_count": 36,
   "id": "dfa345f8-d24b-4294-adb0-41a8f854291c",
   "metadata": {},
   "outputs": [
    {
     "name": "stdout",
     "output_type": "stream",
     "text": [
      "Python is awesome\n"
     ]
    }
   ],
   "source": [
    "# The Python print() function is often used to output variables.\n",
    "x = \"Python is awesome\"\n",
    "print(x)"
   ]
  },
  {
   "cell_type": "code",
   "execution_count": 37,
   "id": "6ffb1bf3-1ae3-4fdc-b247-62b67dd98469",
   "metadata": {},
   "outputs": [
    {
     "name": "stdout",
     "output_type": "stream",
     "text": [
      "Python is awesome\n"
     ]
    }
   ],
   "source": [
    "# In the print() function, you output multiple variables, separated by a comma:\n",
    "x = \"Python\"\n",
    "y = \"is\"\n",
    "z = \"awesome\"\n",
    "print(x, y, z)"
   ]
  },
  {
   "cell_type": "code",
   "execution_count": 40,
   "id": "354ad7b6-0e5f-4918-9da9-65ac284fc3a6",
   "metadata": {},
   "outputs": [
    {
     "name": "stdout",
     "output_type": "stream",
     "text": [
      "Python is awesome\n"
     ]
    }
   ],
   "source": [
    "# You can also use the + operator to output multiple variables:\n",
    "x = \"Python \"\n",
    "y = \"is \"\n",
    "z = \"awesome\"\n",
    "print(x + y + z)\n",
    "# Notice the space character after \"Python \" and \"is \", without them the result would be \"Pythonisawesome\"."
   ]
  },
  {
   "cell_type": "code",
   "execution_count": 45,
   "id": "2ff1814a-99ce-4676-a8e1-28fdbf94e968",
   "metadata": {},
   "outputs": [
    {
     "name": "stdout",
     "output_type": "stream",
     "text": [
      "1000\n",
      "500 Jason\n"
     ]
    }
   ],
   "source": [
    "# For numbers, the + character works as a mathematical operator:\n",
    "x = 900\n",
    "y = 100\n",
    "print(x + y)\n",
    "# In the print() function, when you try to combine a string and a number with the + operator, Python will give you an error:\n",
    "# The best way to output multiple variables in the print() function is to separate them with commas, which even support different data types:\n",
    "x = 500\n",
    "y = \"Jason\"\n",
    "print(x, y)"
   ]
  },
  {
   "cell_type": "markdown",
   "id": "19091170-0fcf-4cdd-9b1a-757b9454ea05",
   "metadata": {},
   "source": [
    "# (10.4)Python - Global Variables->\n",
    "Variables that are created outside of a function (as in all of the examples in the previous pages) are known as global variables. \r\n",
    "Global variables can be used by everyone, both inside of functions and outside."
   ]
  },
  {
   "cell_type": "code",
   "execution_count": 46,
   "id": "70cba219-33c8-4a44-b4f8-0944491b2bd5",
   "metadata": {},
   "outputs": [
    {
     "name": "stdout",
     "output_type": "stream",
     "text": [
      "Python is JasonJH\n"
     ]
    }
   ],
   "source": [
    "# Create a variable outside of a function, and use it inside the function\n",
    "x = \"JasonJH\"\n",
    "\n",
    "def jayson():\n",
    "  print(\"Python is \" + x)\n",
    "\n",
    "jayson()"
   ]
  },
  {
   "cell_type": "code",
   "execution_count": 48,
   "id": "0b6532b7-2391-45ad-bfb4-ae2ab1799acf",
   "metadata": {},
   "outputs": [
    {
     "name": "stdout",
     "output_type": "stream",
     "text": [
      "Python is Jason\n",
      "Python is JasonJH\n"
     ]
    }
   ],
   "source": [
    "# Create a variable inside a function, with the same name as the global variable\n",
    "x = \"JasonJH\"\n",
    "\n",
    "def jayson():\n",
    "    x = \"Jason\"\n",
    "    print(\"Python is \" + x)\n",
    "\n",
    "jayson()\n",
    "print(\"Python is \" + x)"
   ]
  },
  {
   "cell_type": "markdown",
   "id": "16c4aa5f-c06a-445c-8c49-701c0109c645",
   "metadata": {},
   "source": [
    "# (10.4.1)The global Keyword->\n",
    "Normally, when you create a variable inside a function, that variable is local, and can only be used inside that function. \r\n",
    "To create a global variable inside a function, you can use the global keyword."
   ]
  },
  {
   "cell_type": "code",
   "execution_count": 53,
   "id": "700accf9-74c6-48bd-a35f-1034d6c65731",
   "metadata": {},
   "outputs": [
    {
     "name": "stdout",
     "output_type": "stream",
     "text": [
      "Python is Jason\n"
     ]
    }
   ],
   "source": [
    "# If you use the global keyword, the variable belongs to the global scope:\n",
    "def jayson():\n",
    "  global x\n",
    "  x = \"Jason\"\n",
    "\n",
    "jayson()\n",
    "\n",
    "print(\"Python is \" + x)"
   ]
  },
  {
   "cell_type": "code",
   "execution_count": 55,
   "id": "dee1ae03-686f-490b-ad17-f8667c0a553f",
   "metadata": {},
   "outputs": [
    {
     "name": "stdout",
     "output_type": "stream",
     "text": [
      "Python is Jason\n"
     ]
    }
   ],
   "source": [
    "# To change the value of a global variable inside a function, refer to the variable by using the global keyword:\n",
    "x = \"JasonJH\"\n",
    "\n",
    "def jayson():\n",
    "  global x\n",
    "  x = \"Jason\"\n",
    "\n",
    "jayson()\n",
    "\n",
    "print(\"Python is \" + x)"
   ]
  },
  {
   "cell_type": "code",
   "execution_count": null,
   "id": "2055b770-5c28-4935-a5b5-1f6eebaac8f5",
   "metadata": {},
   "outputs": [],
   "source": []
  }
 ],
 "metadata": {
  "kernelspec": {
   "display_name": "Python 3 (ipykernel)",
   "language": "python",
   "name": "python3"
  },
  "language_info": {
   "codemirror_mode": {
    "name": "ipython",
    "version": 3
   },
   "file_extension": ".py",
   "mimetype": "text/x-python",
   "name": "python",
   "nbconvert_exporter": "python",
   "pygments_lexer": "ipython3",
   "version": "3.12.4"
  }
 },
 "nbformat": 4,
 "nbformat_minor": 5
}
