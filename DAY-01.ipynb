{
 "cells": [
  {
   "cell_type": "markdown",
   "id": "e629e0d3-b223-4fd1-b137-2fb17e052858",
   "metadata": {},
   "source": [
    "# Python Data Types"
   ]
  },
  {
   "cell_type": "markdown",
   "id": "2f19d40f-9424-4807-99f4-476882348683",
   "metadata": {},
   "source": [
    "## Getting the Data Type"
   ]
  },
  {
   "cell_type": "code",
   "execution_count": 2,
   "id": "1b0fb798-5c14-43ec-b9fe-65e47ad7c632",
   "metadata": {},
   "outputs": [
    {
     "name": "stdout",
     "output_type": "stream",
     "text": [
      "<class 'int'>\n"
     ]
    }
   ],
   "source": [
    "# You can get the data type of any object by using the type() function:\n",
    "X = 100\n",
    "print(type(X)) # Print the data type of the variable x:"
   ]
  },
  {
   "cell_type": "markdown",
   "id": "6a65037e-51ab-4041-a9dc-e2516affa1ef",
   "metadata": {},
   "source": [
    "In Python, the data type is set when you assign a value to a variable:"
   ]
  },
  {
   "cell_type": "code",
   "execution_count": 7,
   "id": "e1d48c81-fc2d-432f-8c69-1ada36b5a206",
   "metadata": {},
   "outputs": [
    {
     "name": "stdout",
     "output_type": "stream",
     "text": [
      "<class 'str'> <class 'str'> <class 'int'> <class 'float'> <class 'complex'> <class 'list'> <class 'tuple'> <class 'range'> <class 'dict'> <class 'set'> <class 'frozenset'> <class 'bool'> <class 'bytes'> <class 'bytearray'> <class 'memoryview'> <class 'NoneType'>\n"
     ]
    }
   ],
   "source": [
    "A = 'JASON'\n",
    "a = \"jason\"\n",
    "b = 100\n",
    "c = 100.000\n",
    "d = 1j\n",
    "e = [\"George\",\"Derick\",\"Jason\"]\n",
    "f = (\"George\",\"Derick\",\"Jason\")\n",
    "g = range(100)\n",
    "h = {\"name\" : \"Jason\", \"Age\" : 24}\n",
    "i = {\"George\",\"Derick\",\"Jason\"}\n",
    "j = frozenset({\"George\",\"Derick\",\"Jason\"})\n",
    "k = True\n",
    "l = b\"Jason\" # bytes\n",
    "m = bytearray(100)\n",
    "n = memoryview(bytes(100))\n",
    "o = None\n",
    "print(type(A), type(a), type(b), type(c),type(d), type(e), type(f), type(g), type(h), type(i), type(j), type(k), type(l), type(m), type(n), type(o))"
   ]
  },
  {
   "cell_type": "markdown",
   "id": "605301df-6f96-419a-9f1d-8d2e8ade98d4",
   "metadata": {},
   "source": [
    "# Python Numbers"
   ]
  },
  {
   "cell_type": "markdown",
   "id": "c23f6ec2-4ca3-44dc-874a-50a1440c7367",
   "metadata": {},
   "source": [
    "There are three numeric types in Python:\n",
    "plex"
   ]
  },
  {
   "cell_type": "markdown",
   "id": "45d804f4-d866-4462-b1fb-1aba1b16a37b",
   "metadata": {},
   "source": [
    "int float complex "
   ]
  },
  {
   "cell_type": "code",
   "execution_count": 18,
   "id": "7da81045-3c6c-43ff-be67-76862f07cb87",
   "metadata": {},
   "outputs": [
    {
     "name": "stdout",
     "output_type": "stream",
     "text": [
      "<class 'float'> <class 'float'> <class 'float'> <class 'float'> <class 'float'> <class 'float'>\n"
     ]
    }
   ],
   "source": [
    "# Float, or \"floating point number\" is a number, \n",
    "# positive or negative, containing one or more decimals.\n",
    "# Floats:\n",
    "A = 10.0\n",
    "B = 1.100156452465452346431\n",
    "C = -213643.31346\n",
    "# Float can also be scientific numbers with an \"e\" to indicate the power of 10.\n",
    "D = 10e5\n",
    "E = 50E5\n",
    "F = -67.5e213\n",
    "print(type(A), type(B), type(C), type(D), type(E), type(F))"
   ]
  },
  {
   "cell_type": "code",
   "execution_count": 19,
   "id": "8f8779d0-e8ee-4217-b76b-13526c2e1c45",
   "metadata": {},
   "outputs": [
    {
     "name": "stdout",
     "output_type": "stream",
     "text": [
      "<class 'int'> <class 'float'> <class 'complex'>\n"
     ]
    }
   ],
   "source": [
    "# Variables of numeric types are created when you assign a value to them:\n",
    "a = 110 # int\n",
    "b = 206.596 # float\n",
    "c = 1j # complex\n",
    "# To verify the type of any object in Python, use the type() function:\n",
    "print(type(a), type(b), type(c))"
   ]
  },
  {
   "cell_type": "markdown",
   "id": "e4759dd6-b34a-4ad0-9f56-51f6145af558",
   "metadata": {},
   "source": [
    "# Int"
   ]
  },
  {
   "cell_type": "markdown",
   "id": "7d28d3a8-faa8-490e-bcfd-e9d1df43bffa",
   "metadata": {},
   "source": [
    "Int, or integer, is a whole number, positive or negative, without decimals, of unlimited length."
   ]
  },
  {
   "cell_type": "code",
   "execution_count": 20,
   "id": "11429cd3-76a3-4b15-bc0d-f739b75f916f",
   "metadata": {},
   "outputs": [
    {
     "name": "stdout",
     "output_type": "stream",
     "text": [
      "<class 'int'> <class 'int'> <class 'int'>\n"
     ]
    }
   ],
   "source": [
    "# Integers:\n",
    "a = 110 \n",
    "b = 2065965749764564643612684853247 \n",
    "c = -1256465135465\n",
    "print(type(a), type(b), type(c))"
   ]
  },
  {
   "cell_type": "markdown",
   "id": "e331820c-7fff-4fa4-8cd0-34488465b15b",
   "metadata": {},
   "source": [
    "# Float"
   ]
  },
  {
   "cell_type": "markdown",
   "id": "11df1f79-a7da-4d90-a2d1-6cbcf0703214",
   "metadata": {},
   "source": [
    "Float, or \"floating point number\" is a number, positive or negative, containing one or more decimals."
   ]
  },
  {
   "cell_type": "code",
   "execution_count": 21,
   "id": "4dc2ffc7-5d89-47a0-bd9d-29c80edd054b",
   "metadata": {},
   "outputs": [
    {
     "name": "stdout",
     "output_type": "stream",
     "text": [
      "<class 'float'> <class 'float'> <class 'float'> <class 'float'> <class 'float'> <class 'float'>\n"
     ]
    }
   ],
   "source": [
    "# Float:\n",
    "a = 1.10 \n",
    "b = 2.0 \n",
    "c = -12564.65135465\n",
    "# Float can also be scientific numbers with an \"e\" to indicate the power of 10.\n",
    "d = 64e46\n",
    "e = 546E6564\n",
    "f = -546.5e54\n",
    "print(type(a), type(b), type(c),type(d), type(e), type(f))"
   ]
  },
  {
   "cell_type": "markdown",
   "id": "9c445eec-5522-4e9f-af8d-d28e0a54026e",
   "metadata": {},
   "source": [
    "# Complex"
   ]
  },
  {
   "cell_type": "markdown",
   "id": "cddd0d23-6606-490c-868d-127623a44645",
   "metadata": {},
   "source": [
    "Complex numbers are written with a \"j\" as the imaginary part:"
   ]
  },
  {
   "cell_type": "code",
   "execution_count": 22,
   "id": "24b4e4f3-2f80-46a2-814b-43ea81306242",
   "metadata": {},
   "outputs": [
    {
     "name": "stdout",
     "output_type": "stream",
     "text": [
      "<class 'complex'> <class 'complex'> <class 'complex'>\n"
     ]
    }
   ],
   "source": [
    "# Complex:\n",
    "a = 10 + 6j\n",
    "b = 16j\n",
    "c = -6j\n",
    "print(type(a), type(b), type(c))"
   ]
  },
  {
   "cell_type": "markdown",
   "id": "ff00e2d8-2d99-4704-8ae0-e596b0ce5381",
   "metadata": {},
   "source": [
    "# Type Conversion"
   ]
  },
  {
   "cell_type": "markdown",
   "id": "8cad5cb8-1e42-4a9d-a76e-9b8461bffd4c",
   "metadata": {},
   "source": [
    "You can convert from one type to another with the int(), float(), and complex() methods:"
   ]
  },
  {
   "cell_type": "code",
   "execution_count": 26,
   "id": "d0c2da12-1f0e-4590-b23c-39c993570bc6",
   "metadata": {},
   "outputs": [
    {
     "name": "stdout",
     "output_type": "stream",
     "text": [
      "10.0 10 (10+0j)\n",
      "<class 'float'> <class 'int'> <class 'complex'>\n"
     ]
    }
   ],
   "source": [
    "# Convert from one type to another:\n",
    "a = 10 # int\n",
    "b = 10.00 # float\n",
    "c = 1j # complex\n",
    "#convert from int to float:\n",
    "a = float(a)\n",
    "#convert from float to int:\n",
    "b = int(b)\n",
    "#convert from int to complex:\n",
    "c = complex(a)\n",
    "print(a, b, c)\n",
    "print(type(a), type(b), type(c))"
   ]
  },
  {
   "cell_type": "markdown",
   "id": "3c79adcf-e247-4c54-bee9-51e298b2e08a",
   "metadata": {},
   "source": [
    "# Random Number"
   ]
  },
  {
   "cell_type": "markdown",
   "id": "672a3502-d2c3-4c7c-88e0-34e67f2edcf0",
   "metadata": {},
   "source": [
    "Python does not have a random() function to make a random number, but Python has a \n",
    "built-in module called random that can be used to make random numbers:"
   ]
  },
  {
   "cell_type": "code",
   "execution_count": 28,
   "id": "ddc18ab8-4811-4ac6-8b70-8ff0c013bbe5",
   "metadata": {},
   "outputs": [
    {
     "name": "stdout",
     "output_type": "stream",
     "text": [
      "6\n"
     ]
    }
   ],
   "source": [
    "# Import the random module, and display a random number between 1 and 9:\n",
    "import random\n",
    "print(random.randrange(1, 10))"
   ]
  },
  {
   "cell_type": "markdown",
   "id": "cfb650e6-c550-4f4e-a7ed-c1f83cea7243",
   "metadata": {},
   "source": [
    "# Python Casting"
   ]
  },
  {
   "cell_type": "markdown",
   "id": "93883d64-2288-436a-a174-c5a8eb468c6e",
   "metadata": {},
   "source": [
    "## Specify a Variable Type"
   ]
  },
  {
   "cell_type": "markdown",
   "id": "f6bd1c43-fbae-43fd-b565-012c4699b76f",
   "metadata": {},
   "source": [
    "There may be times when you want to specify a type on to a variable. This can be done with casting. Python is an object-orientated language, and as such it uses classes to define data types, including its primitive types."
   ]
  },
  {
   "cell_type": "code",
   "execution_count": 30,
   "id": "64a5f36d-8da4-4213-ad8e-26ffe0aa3504",
   "metadata": {},
   "outputs": [
    {
     "name": "stdout",
     "output_type": "stream",
     "text": [
      "1 2 3\n"
     ]
    }
   ],
   "source": [
    "# Integers:\n",
    "a = int(1)   # a will be 1\n",
    "b = int(2.8) # b will be 2\n",
    "c = int(\"3\") # c will be 3\n",
    "print(a, b, c)"
   ]
  },
  {
   "cell_type": "code",
   "execution_count": 32,
   "id": "d2b8c200-523a-499a-89d9-659eb3e04417",
   "metadata": {},
   "outputs": [
    {
     "name": "stdout",
     "output_type": "stream",
     "text": [
      "1.0 2.8 3.0 4.2\n"
     ]
    }
   ],
   "source": [
    "# Floats:\n",
    "a = float(1)   # a will be 1.0\n",
    "b = float(2.8) # b will be 2.8\n",
    "c = float(\"3\") # c will be 3.0\n",
    "d = float(\"4.2\") # d will be 4.2\n",
    "print(a, b, c, d)"
   ]
  },
  {
   "cell_type": "code",
   "execution_count": 33,
   "id": "7cfe2542-c880-400b-b578-28fd63fe5af4",
   "metadata": {},
   "outputs": [
    {
     "name": "stdout",
     "output_type": "stream",
     "text": [
      "s1 2 3.0\n"
     ]
    }
   ],
   "source": [
    "# Strings:\n",
    "a = str(\"s1\") # a will be 's1'\n",
    "b = str(2)    # b will be '2'\n",
    "c = str(3.0)  # c will be '3.0'\n",
    "print(a, b, c)"
   ]
  },
  {
   "cell_type": "code",
   "execution_count": null,
   "id": "3667059c-f6dd-4d37-bf01-8228df36ef0e",
   "metadata": {},
   "outputs": [],
   "source": []
  }
 ],
 "metadata": {
  "kernelspec": {
   "display_name": "Python 3 (ipykernel)",
   "language": "python",
   "name": "python3"
  },
  "language_info": {
   "codemirror_mode": {
    "name": "ipython",
    "version": 3
   },
   "file_extension": ".py",
   "mimetype": "text/x-python",
   "name": "python",
   "nbconvert_exporter": "python",
   "pygments_lexer": "ipython3",
   "version": "3.12.4"
  }
 },
 "nbformat": 4,
 "nbformat_minor": 5
}
